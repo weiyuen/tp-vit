{
 "cells": [
  {
   "cell_type": "code",
   "execution_count": null,
   "metadata": {},
   "outputs": [],
   "source": [
    "import torch\n",
    "\n",
    "from torch import nn\n",
    "\n",
    "from models.tpr_block_vit_hf import TPViT"
   ]
  },
  {
   "cell_type": "code",
   "execution_count": null,
   "metadata": {},
   "outputs": [],
   "source": []
  },
  {
   "cell_type": "code",
   "execution_count": null,
   "metadata": {},
   "outputs": [],
   "source": [
    "# Register forward hook on last qkvr layer.\n",
    "\n",
    "activation = {}\n",
    "\n",
    "def get_activation(name):\n",
    "    def hook(module, module_in, module_out):\n",
    "        activation[name] = module_out.detach().numpy()\n",
    "    return hook\n",
    "\n",
    "# my ori tp-vit\n",
    "#model.model.model[1][11].encoder[0].fn[0].qkvr.register_forward_hook(get_activation('qkvr'))\n",
    "\n",
    "# lucidrains tp-vit\n",
    "#model.model.transformer.layers[11][0].fn.to_qkvr.register_forward_hook(get_activation('qkvr'))\n",
    "\n",
    "# t2t-vit-t-14\n",
    "model.model.blocks[13].attn.qkvr.register_forward_hook(get_activation('qkvr'))"
   ]
  },
  {
   "cell_type": "code",
   "execution_count": null,
   "metadata": {},
   "outputs": [],
   "source": [
    "# Set up synset to class label conversion\n",
    "label_dict = {}\n",
    "\n",
    "with open('synset_to_class.txt') as f:\n",
    "    for line in f:\n",
    "        key, value = line.strip().split(':')\n",
    "        key = int(key)\n",
    "        label_dict[key] = value"
   ]
  },
  {
   "cell_type": "code",
   "execution_count": null,
   "metadata": {},
   "outputs": [],
   "source": [
    "# Function to return either q, k, v, or r vectors for a particular/all heads.\n",
    "\n",
    "def get_qkvr_vector(image, activation, vector='r', all_heads=True, head_num=0):\n",
    "    probs = model(image)\n",
    "    \n",
    "    if all_heads:\n",
    "        qkvr = rearrange(activation['qkvr'], 'b n (h d qkvr) -> (qkvr) b (h n) d', h=8, qkvr=4)\n",
    "    else:\n",
    "        qkvr = rearrange(activation['qkvr'], 'b n (h d qkvr) -> (qkvr) (b h) n d', h=8, qkvr=4)\n",
    "        \n",
    "    idx = 'qkvr'.index(vector)\n",
    "    z = qkvr[idx]\n",
    "    \n",
    "    if all_heads:\n",
    "        z = z[0]\n",
    "    else:\n",
    "        z = z[head_num] # Select single head.\n",
    "        \n",
    "    return probs, z"
   ]
  }
 ],
 "metadata": {
  "kernelspec": {
   "display_name": "local-venv",
   "language": "python",
   "name": "local-venv"
  },
  "language_info": {
   "codemirror_mode": {
    "name": "ipython",
    "version": 3
   },
   "file_extension": ".py",
   "mimetype": "text/x-python",
   "name": "python",
   "nbconvert_exporter": "python",
   "pygments_lexer": "ipython3",
   "version": "3.8.0"
  }
 },
 "nbformat": 4,
 "nbformat_minor": 4
}
